{
 "cells": [
  {
   "cell_type": "code",
   "execution_count": 1,
   "metadata": {},
   "outputs": [],
   "source": [
    "import pandas as pd\n",
    "from glob import glob"
   ]
  },
  {
   "cell_type": "code",
   "execution_count": 2,
   "metadata": {},
   "outputs": [],
   "source": [
    "ny_files = glob(\"csv/2019*.csv\")\n",
    "nj_files = glob(\"csv/JC-2019*.csv\")\n",
    "files = ny_files+nj_files"
   ]
  },
  {
   "cell_type": "code",
   "execution_count": 3,
   "metadata": {},
   "outputs": [],
   "source": [
    "dfs = []"
   ]
  },
  {
   "cell_type": "code",
   "execution_count": 4,
   "metadata": {},
   "outputs": [],
   "source": [
    "for file in files:\n",
    "    df = pd.read_csv(file)\n",
    "    dfs.append(df)"
   ]
  },
  {
   "cell_type": "code",
   "execution_count": 5,
   "metadata": {},
   "outputs": [],
   "source": [
    "df = pd.concat(dfs, ignore_index=True)"
   ]
  },
  {
   "cell_type": "code",
   "execution_count": 6,
   "metadata": {},
   "outputs": [],
   "source": [
    "df = df.drop(columns=[\"stoptime\", \"start station name\", \"start station latitude\", \"start station longitude\", \"end station id\",\n",
    "                      \"end station name\", \"end station latitude\", \"end station longitude\", \"usertype\", \"gender\"])"
   ]
  },
  {
   "cell_type": "code",
   "execution_count": 7,
   "metadata": {},
   "outputs": [
    {
     "data": {
      "text/plain": [
       "0           [2019-01, 01 00:01:47.4010]\n",
       "1           [2019-01, 01 00:04:43.7360]\n",
       "2           [2019-01, 01 00:06:03.9970]\n",
       "3           [2019-01, 01 00:07:03.5450]\n",
       "4           [2019-01, 01 00:07:35.9450]\n",
       "                       ...             \n",
       "20956639    [2019-12, 31 23:12:18.5480]\n",
       "20956640    [2019-12, 31 23:19:03.5840]\n",
       "20956641    [2019-12, 31 23:19:06.5830]\n",
       "20956642    [2019-12, 31 23:24:00.2630]\n",
       "20956643    [2019-12, 31 23:45:20.9780]\n",
       "Name: starttime, Length: 20956644, dtype: object"
      ]
     },
     "execution_count": 7,
     "metadata": {},
     "output_type": "execute_result"
    }
   ],
   "source": [
    "date_time = df.starttime.str.rsplit(\"-\", n=1)\n",
    "date_time"
   ]
  },
  {
   "cell_type": "code",
   "execution_count": 8,
   "metadata": {},
   "outputs": [
    {
     "data": {
      "text/html": [
       "<div>\n",
       "<style scoped>\n",
       "    .dataframe tbody tr th:only-of-type {\n",
       "        vertical-align: middle;\n",
       "    }\n",
       "\n",
       "    .dataframe tbody tr th {\n",
       "        vertical-align: top;\n",
       "    }\n",
       "\n",
       "    .dataframe thead th {\n",
       "        text-align: right;\n",
       "    }\n",
       "</style>\n",
       "<table border=\"1\" class=\"dataframe\">\n",
       "  <thead>\n",
       "    <tr style=\"text-align: right;\">\n",
       "      <th></th>\n",
       "      <th>tripduration</th>\n",
       "      <th>starttime</th>\n",
       "      <th>start station id</th>\n",
       "      <th>bikeid</th>\n",
       "      <th>birth year</th>\n",
       "    </tr>\n",
       "  </thead>\n",
       "  <tbody>\n",
       "    <tr>\n",
       "      <th>0</th>\n",
       "      <td>320</td>\n",
       "      <td>2019-01-01 00:00:00</td>\n",
       "      <td>3160.0</td>\n",
       "      <td>15839</td>\n",
       "      <td>1971</td>\n",
       "    </tr>\n",
       "    <tr>\n",
       "      <th>1</th>\n",
       "      <td>316</td>\n",
       "      <td>2019-01-01 00:00:00</td>\n",
       "      <td>519.0</td>\n",
       "      <td>32723</td>\n",
       "      <td>1964</td>\n",
       "    </tr>\n",
       "    <tr>\n",
       "      <th>2</th>\n",
       "      <td>591</td>\n",
       "      <td>2019-01-01 00:00:00</td>\n",
       "      <td>3171.0</td>\n",
       "      <td>27451</td>\n",
       "      <td>1987</td>\n",
       "    </tr>\n",
       "    <tr>\n",
       "      <th>3</th>\n",
       "      <td>2719</td>\n",
       "      <td>2019-01-01 00:00:00</td>\n",
       "      <td>504.0</td>\n",
       "      <td>21579</td>\n",
       "      <td>1990</td>\n",
       "    </tr>\n",
       "    <tr>\n",
       "      <th>4</th>\n",
       "      <td>303</td>\n",
       "      <td>2019-01-01 00:00:00</td>\n",
       "      <td>229.0</td>\n",
       "      <td>35379</td>\n",
       "      <td>1979</td>\n",
       "    </tr>\n",
       "  </tbody>\n",
       "</table>\n",
       "</div>"
      ],
      "text/plain": [
       "   tripduration            starttime  start station id  bikeid  birth year\n",
       "0           320  2019-01-01 00:00:00            3160.0   15839        1971\n",
       "1           316  2019-01-01 00:00:00             519.0   32723        1964\n",
       "2           591  2019-01-01 00:00:00            3171.0   27451        1987\n",
       "3          2719  2019-01-01 00:00:00             504.0   21579        1990\n",
       "4           303  2019-01-01 00:00:00             229.0   35379        1979"
      ]
     },
     "execution_count": 8,
     "metadata": {},
     "output_type": "execute_result"
    }
   ],
   "source": [
    "df[\"starttime\"] = date_time.str[0]+\"-01 00:00:00\"\n",
    "df.head()"
   ]
  },
  {
   "cell_type": "code",
   "execution_count": 9,
   "metadata": {},
   "outputs": [],
   "source": [
    "station_df = df.groupby([\"start station id\", \"starttime\"]).count()\n",
    "station_df = station_df.drop(columns = [\"tripduration\", \"birth year\"])"
   ]
  },
  {
   "cell_type": "code",
   "execution_count": 10,
   "metadata": {},
   "outputs": [
    {
     "data": {
      "text/html": [
       "<div>\n",
       "<style scoped>\n",
       "    .dataframe tbody tr th:only-of-type {\n",
       "        vertical-align: middle;\n",
       "    }\n",
       "\n",
       "    .dataframe tbody tr th {\n",
       "        vertical-align: top;\n",
       "    }\n",
       "\n",
       "    .dataframe thead th {\n",
       "        text-align: right;\n",
       "    }\n",
       "</style>\n",
       "<table border=\"1\" class=\"dataframe\">\n",
       "  <thead>\n",
       "    <tr style=\"text-align: right;\">\n",
       "      <th></th>\n",
       "      <th>id</th>\n",
       "      <th>month</th>\n",
       "      <th>count</th>\n",
       "    </tr>\n",
       "  </thead>\n",
       "  <tbody>\n",
       "    <tr>\n",
       "      <th>0</th>\n",
       "      <td>72.0</td>\n",
       "      <td>2019-01-01 00:00:00</td>\n",
       "      <td>1697</td>\n",
       "    </tr>\n",
       "    <tr>\n",
       "      <th>1</th>\n",
       "      <td>72.0</td>\n",
       "      <td>2019-02-01 00:00:00</td>\n",
       "      <td>1831</td>\n",
       "    </tr>\n",
       "    <tr>\n",
       "      <th>2</th>\n",
       "      <td>72.0</td>\n",
       "      <td>2019-03-01 00:00:00</td>\n",
       "      <td>3075</td>\n",
       "    </tr>\n",
       "    <tr>\n",
       "      <th>3</th>\n",
       "      <td>72.0</td>\n",
       "      <td>2019-04-01 00:00:00</td>\n",
       "      <td>4126</td>\n",
       "    </tr>\n",
       "    <tr>\n",
       "      <th>4</th>\n",
       "      <td>72.0</td>\n",
       "      <td>2019-05-01 00:00:00</td>\n",
       "      <td>4338</td>\n",
       "    </tr>\n",
       "  </tbody>\n",
       "</table>\n",
       "</div>"
      ],
      "text/plain": [
       "     id                month  count\n",
       "0  72.0  2019-01-01 00:00:00   1697\n",
       "1  72.0  2019-02-01 00:00:00   1831\n",
       "2  72.0  2019-03-01 00:00:00   3075\n",
       "3  72.0  2019-04-01 00:00:00   4126\n",
       "4  72.0  2019-05-01 00:00:00   4338"
      ]
     },
     "execution_count": 10,
     "metadata": {},
     "output_type": "execute_result"
    }
   ],
   "source": [
    "station_df = station_df.reset_index()\n",
    "station_df.columns = [\"id\", \"month\", \"count\"]\n",
    "station_df.head()"
   ]
  },
  {
   "cell_type": "code",
   "execution_count": null,
   "metadata": {},
   "outputs": [],
   "source": [
    "station_df = station_df.astype({\"id\":int})\n",
    "station_df.to_csv(\"cleaned_csv/station_use.csv\", index=False)"
   ]
  },
  {
   "cell_type": "code",
   "execution_count": 11,
   "metadata": {},
   "outputs": [],
   "source": [
    "df.loc[df[\"birth year\"] < 1940, \"birth year\"] = \"UNK\""
   ]
  },
  {
   "cell_type": "code",
   "execution_count": 16,
   "metadata": {},
   "outputs": [
    {
     "data": {
      "text/html": [
       "<div>\n",
       "<style scoped>\n",
       "    .dataframe tbody tr th:only-of-type {\n",
       "        vertical-align: middle;\n",
       "    }\n",
       "\n",
       "    .dataframe tbody tr th {\n",
       "        vertical-align: top;\n",
       "    }\n",
       "\n",
       "    .dataframe thead th {\n",
       "        text-align: right;\n",
       "    }\n",
       "</style>\n",
       "<table border=\"1\" class=\"dataframe\">\n",
       "  <thead>\n",
       "    <tr style=\"text-align: right;\">\n",
       "      <th></th>\n",
       "      <th>year</th>\n",
       "      <th>count</th>\n",
       "      <th>duration</th>\n",
       "    </tr>\n",
       "  </thead>\n",
       "  <tbody>\n",
       "    <tr>\n",
       "      <th>0</th>\n",
       "      <td>1940</td>\n",
       "      <td>4853</td>\n",
       "      <td>3286908</td>\n",
       "    </tr>\n",
       "    <tr>\n",
       "      <th>1</th>\n",
       "      <td>1941</td>\n",
       "      <td>6869</td>\n",
       "      <td>6007719</td>\n",
       "    </tr>\n",
       "    <tr>\n",
       "      <th>2</th>\n",
       "      <td>1942</td>\n",
       "      <td>9663</td>\n",
       "      <td>7307900</td>\n",
       "    </tr>\n",
       "    <tr>\n",
       "      <th>3</th>\n",
       "      <td>1943</td>\n",
       "      <td>9336</td>\n",
       "      <td>8079716</td>\n",
       "    </tr>\n",
       "    <tr>\n",
       "      <th>4</th>\n",
       "      <td>1944</td>\n",
       "      <td>8371</td>\n",
       "      <td>6528881</td>\n",
       "    </tr>\n",
       "    <tr>\n",
       "      <th>...</th>\n",
       "      <td>...</td>\n",
       "      <td>...</td>\n",
       "      <td>...</td>\n",
       "    </tr>\n",
       "    <tr>\n",
       "      <th>60</th>\n",
       "      <td>2000</td>\n",
       "      <td>124819</td>\n",
       "      <td>156601654</td>\n",
       "    </tr>\n",
       "    <tr>\n",
       "      <th>61</th>\n",
       "      <td>2001</td>\n",
       "      <td>62622</td>\n",
       "      <td>69588876</td>\n",
       "    </tr>\n",
       "    <tr>\n",
       "      <th>62</th>\n",
       "      <td>2002</td>\n",
       "      <td>27200</td>\n",
       "      <td>35402584</td>\n",
       "    </tr>\n",
       "    <tr>\n",
       "      <th>63</th>\n",
       "      <td>2003</td>\n",
       "      <td>10357</td>\n",
       "      <td>16106517</td>\n",
       "    </tr>\n",
       "    <tr>\n",
       "      <th>64</th>\n",
       "      <td>UNK</td>\n",
       "      <td>27784</td>\n",
       "      <td>22875255</td>\n",
       "    </tr>\n",
       "  </tbody>\n",
       "</table>\n",
       "<p>65 rows × 3 columns</p>\n",
       "</div>"
      ],
      "text/plain": [
       "    year   count   duration\n",
       "0   1940    4853    3286908\n",
       "1   1941    6869    6007719\n",
       "2   1942    9663    7307900\n",
       "3   1943    9336    8079716\n",
       "4   1944    8371    6528881\n",
       "..   ...     ...        ...\n",
       "60  2000  124819  156601654\n",
       "61  2001   62622   69588876\n",
       "62  2002   27200   35402584\n",
       "63  2003   10357   16106517\n",
       "64   UNK   27784   22875255\n",
       "\n",
       "[65 rows x 3 columns]"
      ]
     },
     "execution_count": 16,
     "metadata": {},
     "output_type": "execute_result"
    }
   ],
   "source": [
    "birth_cnt_df = df.groupby(\"birth year\").count()\n",
    "birth_sum_df = df.groupby(\"birth year\").sum()\n",
    "birth_df = pd.DataFrame({\n",
    "    \"year\":birth_cnt_df.index,\n",
    "    \"count\": birth_cnt_df.tripduration,\n",
    "    \"duration\": birth_sum_df.tripduration\n",
    "})\n",
    "birth_df = birth_df.reset_index(drop=True)\n",
    "birth_df"
   ]
  },
  {
   "cell_type": "code",
   "execution_count": 20,
   "metadata": {},
   "outputs": [],
   "source": [
    "birth_df.to_csv(\"cleaned_csv/birth_year.csv\", index=False)"
   ]
  },
  {
   "cell_type": "code",
   "execution_count": 18,
   "metadata": {},
   "outputs": [
    {
     "data": {
      "text/html": [
       "<div>\n",
       "<style scoped>\n",
       "    .dataframe tbody tr th:only-of-type {\n",
       "        vertical-align: middle;\n",
       "    }\n",
       "\n",
       "    .dataframe tbody tr th {\n",
       "        vertical-align: top;\n",
       "    }\n",
       "\n",
       "    .dataframe thead th {\n",
       "        text-align: right;\n",
       "    }\n",
       "</style>\n",
       "<table border=\"1\" class=\"dataframe\">\n",
       "  <thead>\n",
       "    <tr style=\"text-align: right;\">\n",
       "      <th></th>\n",
       "      <th>bike_id</th>\n",
       "      <th>count</th>\n",
       "      <th>duration</th>\n",
       "    </tr>\n",
       "  </thead>\n",
       "  <tbody>\n",
       "    <tr>\n",
       "      <th>0</th>\n",
       "      <td>14529</td>\n",
       "      <td>675</td>\n",
       "      <td>584342</td>\n",
       "    </tr>\n",
       "    <tr>\n",
       "      <th>1</th>\n",
       "      <td>14530</td>\n",
       "      <td>950</td>\n",
       "      <td>750855</td>\n",
       "    </tr>\n",
       "    <tr>\n",
       "      <th>2</th>\n",
       "      <td>14531</td>\n",
       "      <td>705</td>\n",
       "      <td>840015</td>\n",
       "    </tr>\n",
       "    <tr>\n",
       "      <th>3</th>\n",
       "      <td>14532</td>\n",
       "      <td>11</td>\n",
       "      <td>7799</td>\n",
       "    </tr>\n",
       "    <tr>\n",
       "      <th>4</th>\n",
       "      <td>14533</td>\n",
       "      <td>872</td>\n",
       "      <td>810747</td>\n",
       "    </tr>\n",
       "    <tr>\n",
       "      <th>...</th>\n",
       "      <td>...</td>\n",
       "      <td>...</td>\n",
       "      <td>...</td>\n",
       "    </tr>\n",
       "    <tr>\n",
       "      <th>19926</th>\n",
       "      <td>42044</td>\n",
       "      <td>663</td>\n",
       "      <td>523195</td>\n",
       "    </tr>\n",
       "    <tr>\n",
       "      <th>19927</th>\n",
       "      <td>42045</td>\n",
       "      <td>570</td>\n",
       "      <td>427384</td>\n",
       "    </tr>\n",
       "    <tr>\n",
       "      <th>19928</th>\n",
       "      <td>42046</td>\n",
       "      <td>614</td>\n",
       "      <td>523935</td>\n",
       "    </tr>\n",
       "    <tr>\n",
       "      <th>19929</th>\n",
       "      <td>42068</td>\n",
       "      <td>2</td>\n",
       "      <td>1598</td>\n",
       "    </tr>\n",
       "    <tr>\n",
       "      <th>19930</th>\n",
       "      <td>42088</td>\n",
       "      <td>1</td>\n",
       "      <td>567</td>\n",
       "    </tr>\n",
       "  </tbody>\n",
       "</table>\n",
       "<p>19931 rows × 3 columns</p>\n",
       "</div>"
      ],
      "text/plain": [
       "       bike_id  count  duration\n",
       "0        14529    675    584342\n",
       "1        14530    950    750855\n",
       "2        14531    705    840015\n",
       "3        14532     11      7799\n",
       "4        14533    872    810747\n",
       "...        ...    ...       ...\n",
       "19926    42044    663    523195\n",
       "19927    42045    570    427384\n",
       "19928    42046    614    523935\n",
       "19929    42068      2      1598\n",
       "19930    42088      1       567\n",
       "\n",
       "[19931 rows x 3 columns]"
      ]
     },
     "execution_count": 18,
     "metadata": {},
     "output_type": "execute_result"
    }
   ],
   "source": [
    "bikeid_cnt_df = df.groupby(\"bikeid\").count()\n",
    "bikeid_sum_df = df.groupby(\"bikeid\").sum()\n",
    "bikeid_df = pd.DataFrame({\n",
    "    \"bike_id\":bikeid_cnt_df.index,\n",
    "    \"count\": bikeid_cnt_df.tripduration,\n",
    "    \"duration\": bikeid_sum_df.tripduration\n",
    "})\n",
    "bikeid_df = bikeid_df.reset_index(drop=True)\n",
    "bikeid_df"
   ]
  },
  {
   "cell_type": "code",
   "execution_count": 21,
   "metadata": {},
   "outputs": [],
   "source": [
    "bikeid_df.to_csv(\"cleaned_csv/bike_id.csv\", index=False)"
   ]
  },
  {
   "cell_type": "code",
   "execution_count": 22,
   "metadata": {},
   "outputs": [
    {
     "data": {
      "text/html": [
       "<div>\n",
       "<style scoped>\n",
       "    .dataframe tbody tr th:only-of-type {\n",
       "        vertical-align: middle;\n",
       "    }\n",
       "\n",
       "    .dataframe tbody tr th {\n",
       "        vertical-align: top;\n",
       "    }\n",
       "\n",
       "    .dataframe thead th {\n",
       "        text-align: right;\n",
       "    }\n",
       "</style>\n",
       "<table border=\"1\" class=\"dataframe\">\n",
       "  <thead>\n",
       "    <tr style=\"text-align: right;\">\n",
       "      <th></th>\n",
       "      <th>bike_id</th>\n",
       "      <th>count</th>\n",
       "      <th>duration</th>\n",
       "    </tr>\n",
       "  </thead>\n",
       "  <tbody>\n",
       "    <tr>\n",
       "      <th>16013</th>\n",
       "      <td>37947</td>\n",
       "      <td>2</td>\n",
       "      <td>2608974</td>\n",
       "    </tr>\n",
       "  </tbody>\n",
       "</table>\n",
       "</div>"
      ],
      "text/plain": [
       "       bike_id  count  duration\n",
       "16013    37947      2   2608974"
      ]
     },
     "execution_count": 22,
     "metadata": {},
     "output_type": "execute_result"
    }
   ],
   "source": [
    "bikeid_df.loc[bikeid_df[\"bike_id\"] == 37947]"
   ]
  },
  {
   "cell_type": "code",
   "execution_count": null,
   "metadata": {},
   "outputs": [],
   "source": []
  }
 ],
 "metadata": {
  "kernelspec": {
   "display_name": "Python 3.7.7 64-bit ('bootcamp': conda)",
   "language": "python",
   "name": "python37764bitbootcampcondafa1073a244f842c595cf990ca146a45f"
  },
  "language_info": {
   "codemirror_mode": {
    "name": "ipython",
    "version": 3
   },
   "file_extension": ".py",
   "mimetype": "text/x-python",
   "name": "python",
   "nbconvert_exporter": "python",
   "pygments_lexer": "ipython3",
   "version": "3.7.7"
  }
 },
 "nbformat": 4,
 "nbformat_minor": 4
}
